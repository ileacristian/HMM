{
 "cells": [
  {
   "cell_type": "code",
   "execution_count": 3,
   "metadata": {},
   "outputs": [
    {
     "data": {
      "text/plain": [
       "'one two'"
      ]
     },
     "metadata": {},
     "output_type": "display_data"
    }
   ],
   "source": [
    "import numpy as np\n",
    "from IPython.display import display\n",
    "\n",
    "np.set_printoptions(suppress=True)\n",
    "\n",
    "#np.zeros(5)\n",
    "sum([1,2,3,4])\n",
    "display('{} {}'.format('one', 'two'))"
   ]
  },
  {
   "cell_type": "code",
   "execution_count": 4,
   "metadata": {
    "scrolled": true
   },
   "outputs": [],
   "source": [
    "class HMM:\n",
    "    def __init__(self, hidden_states, visible_symbols):\n",
    "        \n",
    "        # first hidden state is actually w0 (omega_0)\n",
    "        self.hidden_states = [\"w0\"] + hidden_states\n",
    "        # first visible symbol is actually v0\n",
    "        self.visible_symbols = [\"v0\"] + visible_symbols\n",
    "    \n",
    "        self.count_hidden = len(hidden_states) + 1\n",
    "        self.count_visible = len(visible_symbols) + 1\n",
    "    \n",
    "        # transition matrix\n",
    "        self.a = np.random.random(self.count_hidden ** 2).reshape(self.count_hidden, self.count_hidden)\n",
    "        # emissions matrix\n",
    "        self.b = np.random.random(self.count_hidden * self.count_visible).reshape(self.count_hidden, self.count_visible)\n",
    "        # alpha matrix\n",
    "        #self.alpha_matrix = np.zeros(self.count_hidden ** 2).reshape(self.count_hidden, self.count_hidden)\n",
    "        # beta matrix\n",
    "        self._beta = np.zeros(self.count_hidden ** 2).reshape(self.count_hidden, self.count_hidden)\n",
    "        \n",
    "        self.a[0, 0] = 1\n",
    "        for i in range(1, self.count_hidden):\n",
    "            self.a[0, i] = 0\n",
    "            \n",
    "        self.b[0, 0] = 1\n",
    "        for k in range(1, self.count_visible):\n",
    "            self.b[0, k] = 0\n",
    "        \n",
    "        for j in range(1, self.count_hidden):\n",
    "            self.b[j, 0] = 0\n",
    "    \n",
    "    def alpha(self, j, t, sequence, initial_hidden_state = 1, force_refresh = False):\n",
    "        if force_refresh:\n",
    "            self.alpha_matrix = np.zeros(self.count_hidden * len(sequence)).reshape(self.count_hidden,  len(sequence))\n",
    "            display(\"Force refresh\")\n",
    "        else:\n",
    "            #display(\"getting precalculated value\")\n",
    "            return self.alpha_matrix[j, t]\n",
    "        \n",
    "        for t in range(len(sequence)):\n",
    "            k = self.visible_symbols.index(sequence[t])\n",
    "            for j in range(self.count_hidden):\n",
    "                if t == 0 and j != initial_hidden_state:\n",
    "                    self.alpha_matrix[j, t] = 0\n",
    "                elif t == 0 and j == initial_hidden_state:\n",
    "                    self.alpha_matrix[j, t] = 1\n",
    "                else:\n",
    "                    display('j:{} t:{} k:{}, vk:{}'.format(j, t, k, sequence[t]))\n",
    "                    suma = 0\n",
    "                    for i in range(self.count_hidden):\n",
    "                        display('alpha_matrix_i{}_t{}:{} ai{}j{}:{}'.format(i, t-1, self.alpha_matrix[i, t-1], i, j, self.a[i,j]))\n",
    "                        suma += self.alpha_matrix[i, t-1] * self.a[i, j] * self.b[j, k] \n",
    "                    \n",
    "                    display(\"bj{}k{}:{} result:{}\".format(j, k,self.b[j,k], suma))\n",
    "                    self.alpha_matrix[j, t] =  suma \n",
    "\n",
    "#model = HMM([\"w1\", \"w2\", \"w3\"], [\"v1\", \"v2\", \"v3\", \"v4\"])\n",
    "\n",
    "#model.alpha(0, 4 , [\"v3\", \"v1\", \"v2\", \"v1\", \"v0\"], force_refresh = True)\n",
    "#model.alpha_matrix"
   ]
  },
  {
   "cell_type": "code",
   "execution_count": 5,
   "metadata": {},
   "outputs": [
    {
     "data": {
      "text/plain": [
       "'Force refresh'"
      ]
     },
     "metadata": {},
     "output_type": "display_data"
    },
    {
     "data": {
      "text/plain": [
       "'j:0 t:1 k:1, vk:v1'"
      ]
     },
     "metadata": {},
     "output_type": "display_data"
    },
    {
     "data": {
      "text/plain": [
       "'alpha_matrix_i0_t0:0.0 ai0j0:1.0'"
      ]
     },
     "metadata": {},
     "output_type": "display_data"
    },
    {
     "data": {
      "text/plain": [
       "'alpha_matrix_i1_t0:1.0 ai1j0:0.2'"
      ]
     },
     "metadata": {},
     "output_type": "display_data"
    },
    {
     "data": {
      "text/plain": [
       "'alpha_matrix_i2_t0:0.0 ai2j0:0.2'"
      ]
     },
     "metadata": {},
     "output_type": "display_data"
    },
    {
     "data": {
      "text/plain": [
       "'alpha_matrix_i3_t0:0.0 ai3j0:0.7'"
      ]
     },
     "metadata": {},
     "output_type": "display_data"
    },
    {
     "data": {
      "text/plain": [
       "'bj0k1:0.0 result:0.0'"
      ]
     },
     "metadata": {},
     "output_type": "display_data"
    },
    {
     "data": {
      "text/plain": [
       "'j:1 t:1 k:1, vk:v1'"
      ]
     },
     "metadata": {},
     "output_type": "display_data"
    },
    {
     "data": {
      "text/plain": [
       "'alpha_matrix_i0_t0:0.0 ai0j1:0.0'"
      ]
     },
     "metadata": {},
     "output_type": "display_data"
    },
    {
     "data": {
      "text/plain": [
       "'alpha_matrix_i1_t0:1.0 ai1j1:0.3'"
      ]
     },
     "metadata": {},
     "output_type": "display_data"
    },
    {
     "data": {
      "text/plain": [
       "'alpha_matrix_i2_t0:0.0 ai2j1:0.5'"
      ]
     },
     "metadata": {},
     "output_type": "display_data"
    },
    {
     "data": {
      "text/plain": [
       "'alpha_matrix_i3_t0:0.0 ai3j1:0.1'"
      ]
     },
     "metadata": {},
     "output_type": "display_data"
    },
    {
     "data": {
      "text/plain": [
       "'bj1k1:0.3 result:0.09'"
      ]
     },
     "metadata": {},
     "output_type": "display_data"
    },
    {
     "data": {
      "text/plain": [
       "'j:2 t:1 k:1, vk:v1'"
      ]
     },
     "metadata": {},
     "output_type": "display_data"
    },
    {
     "data": {
      "text/plain": [
       "'alpha_matrix_i0_t0:0.0 ai0j2:0.0'"
      ]
     },
     "metadata": {},
     "output_type": "display_data"
    },
    {
     "data": {
      "text/plain": [
       "'alpha_matrix_i1_t0:1.0 ai1j2:0.1'"
      ]
     },
     "metadata": {},
     "output_type": "display_data"
    },
    {
     "data": {
      "text/plain": [
       "'alpha_matrix_i2_t0:0.0 ai2j2:0.2'"
      ]
     },
     "metadata": {},
     "output_type": "display_data"
    },
    {
     "data": {
      "text/plain": [
       "'alpha_matrix_i3_t0:0.0 ai3j2:0.1'"
      ]
     },
     "metadata": {},
     "output_type": "display_data"
    },
    {
     "data": {
      "text/plain": [
       "'bj2k1:0.1 result:0.01'"
      ]
     },
     "metadata": {},
     "output_type": "display_data"
    },
    {
     "data": {
      "text/plain": [
       "'j:3 t:1 k:1, vk:v1'"
      ]
     },
     "metadata": {},
     "output_type": "display_data"
    },
    {
     "data": {
      "text/plain": [
       "'alpha_matrix_i0_t0:0.0 ai0j3:0.0'"
      ]
     },
     "metadata": {},
     "output_type": "display_data"
    },
    {
     "data": {
      "text/plain": [
       "'alpha_matrix_i1_t0:1.0 ai1j3:0.4'"
      ]
     },
     "metadata": {},
     "output_type": "display_data"
    },
    {
     "data": {
      "text/plain": [
       "'alpha_matrix_i2_t0:0.0 ai2j3:0.1'"
      ]
     },
     "metadata": {},
     "output_type": "display_data"
    },
    {
     "data": {
      "text/plain": [
       "'alpha_matrix_i3_t0:0.0 ai3j3:0.1'"
      ]
     },
     "metadata": {},
     "output_type": "display_data"
    },
    {
     "data": {
      "text/plain": [
       "'bj3k1:0.5 result:0.2'"
      ]
     },
     "metadata": {},
     "output_type": "display_data"
    },
    {
     "data": {
      "text/plain": [
       "'j:0 t:2 k:3, vk:v3'"
      ]
     },
     "metadata": {},
     "output_type": "display_data"
    },
    {
     "data": {
      "text/plain": [
       "'alpha_matrix_i0_t1:0.0 ai0j0:1.0'"
      ]
     },
     "metadata": {},
     "output_type": "display_data"
    },
    {
     "data": {
      "text/plain": [
       "'alpha_matrix_i1_t1:0.09 ai1j0:0.2'"
      ]
     },
     "metadata": {},
     "output_type": "display_data"
    },
    {
     "data": {
      "text/plain": [
       "'alpha_matrix_i2_t1:0.01 ai2j0:0.2'"
      ]
     },
     "metadata": {},
     "output_type": "display_data"
    },
    {
     "data": {
      "text/plain": [
       "'alpha_matrix_i3_t1:0.2 ai3j0:0.7'"
      ]
     },
     "metadata": {},
     "output_type": "display_data"
    },
    {
     "data": {
      "text/plain": [
       "'bj0k3:0.0 result:0.0'"
      ]
     },
     "metadata": {},
     "output_type": "display_data"
    },
    {
     "data": {
      "text/plain": [
       "'j:1 t:2 k:3, vk:v3'"
      ]
     },
     "metadata": {},
     "output_type": "display_data"
    },
    {
     "data": {
      "text/plain": [
       "'alpha_matrix_i0_t1:0.0 ai0j1:0.0'"
      ]
     },
     "metadata": {},
     "output_type": "display_data"
    },
    {
     "data": {
      "text/plain": [
       "'alpha_matrix_i1_t1:0.09 ai1j1:0.3'"
      ]
     },
     "metadata": {},
     "output_type": "display_data"
    },
    {
     "data": {
      "text/plain": [
       "'alpha_matrix_i2_t1:0.01 ai2j1:0.5'"
      ]
     },
     "metadata": {},
     "output_type": "display_data"
    },
    {
     "data": {
      "text/plain": [
       "'alpha_matrix_i3_t1:0.2 ai3j1:0.1'"
      ]
     },
     "metadata": {},
     "output_type": "display_data"
    },
    {
     "data": {
      "text/plain": [
       "'bj1k3:0.1 result:0.0052'"
      ]
     },
     "metadata": {},
     "output_type": "display_data"
    },
    {
     "data": {
      "text/plain": [
       "'j:2 t:2 k:3, vk:v3'"
      ]
     },
     "metadata": {},
     "output_type": "display_data"
    },
    {
     "data": {
      "text/plain": [
       "'alpha_matrix_i0_t1:0.0 ai0j2:0.0'"
      ]
     },
     "metadata": {},
     "output_type": "display_data"
    },
    {
     "data": {
      "text/plain": [
       "'alpha_matrix_i1_t1:0.09 ai1j2:0.1'"
      ]
     },
     "metadata": {},
     "output_type": "display_data"
    },
    {
     "data": {
      "text/plain": [
       "'alpha_matrix_i2_t1:0.01 ai2j2:0.2'"
      ]
     },
     "metadata": {},
     "output_type": "display_data"
    },
    {
     "data": {
      "text/plain": [
       "'alpha_matrix_i3_t1:0.2 ai3j2:0.1'"
      ]
     },
     "metadata": {},
     "output_type": "display_data"
    },
    {
     "data": {
      "text/plain": [
       "'bj2k3:0.7 result:0.0217'"
      ]
     },
     "metadata": {},
     "output_type": "display_data"
    },
    {
     "data": {
      "text/plain": [
       "'j:3 t:2 k:3, vk:v3'"
      ]
     },
     "metadata": {},
     "output_type": "display_data"
    },
    {
     "data": {
      "text/plain": [
       "'alpha_matrix_i0_t1:0.0 ai0j3:0.0'"
      ]
     },
     "metadata": {},
     "output_type": "display_data"
    },
    {
     "data": {
      "text/plain": [
       "'alpha_matrix_i1_t1:0.09 ai1j3:0.4'"
      ]
     },
     "metadata": {},
     "output_type": "display_data"
    },
    {
     "data": {
      "text/plain": [
       "'alpha_matrix_i2_t1:0.01 ai2j3:0.1'"
      ]
     },
     "metadata": {},
     "output_type": "display_data"
    },
    {
     "data": {
      "text/plain": [
       "'alpha_matrix_i3_t1:0.2 ai3j3:0.1'"
      ]
     },
     "metadata": {},
     "output_type": "display_data"
    },
    {
     "data": {
      "text/plain": [
       "'bj3k3:0.1 result:0.0057'"
      ]
     },
     "metadata": {},
     "output_type": "display_data"
    },
    {
     "data": {
      "text/plain": [
       "'j:0 t:3 k:2, vk:v2'"
      ]
     },
     "metadata": {},
     "output_type": "display_data"
    },
    {
     "data": {
      "text/plain": [
       "'alpha_matrix_i0_t2:0.0 ai0j0:1.0'"
      ]
     },
     "metadata": {},
     "output_type": "display_data"
    },
    {
     "data": {
      "text/plain": [
       "'alpha_matrix_i1_t2:0.0052 ai1j0:0.2'"
      ]
     },
     "metadata": {},
     "output_type": "display_data"
    },
    {
     "data": {
      "text/plain": [
       "'alpha_matrix_i2_t2:0.0217 ai2j0:0.2'"
      ]
     },
     "metadata": {},
     "output_type": "display_data"
    },
    {
     "data": {
      "text/plain": [
       "'alpha_matrix_i3_t2:0.0057 ai3j0:0.7'"
      ]
     },
     "metadata": {},
     "output_type": "display_data"
    },
    {
     "data": {
      "text/plain": [
       "'bj0k2:0.0 result:0.0'"
      ]
     },
     "metadata": {},
     "output_type": "display_data"
    },
    {
     "data": {
      "text/plain": [
       "'j:1 t:3 k:2, vk:v2'"
      ]
     },
     "metadata": {},
     "output_type": "display_data"
    },
    {
     "data": {
      "text/plain": [
       "'alpha_matrix_i0_t2:0.0 ai0j1:0.0'"
      ]
     },
     "metadata": {},
     "output_type": "display_data"
    },
    {
     "data": {
      "text/plain": [
       "'alpha_matrix_i1_t2:0.0052 ai1j1:0.3'"
      ]
     },
     "metadata": {},
     "output_type": "display_data"
    },
    {
     "data": {
      "text/plain": [
       "'alpha_matrix_i2_t2:0.0217 ai2j1:0.5'"
      ]
     },
     "metadata": {},
     "output_type": "display_data"
    },
    {
     "data": {
      "text/plain": [
       "'alpha_matrix_i3_t2:0.0057 ai3j1:0.1'"
      ]
     },
     "metadata": {},
     "output_type": "display_data"
    },
    {
     "data": {
      "text/plain": [
       "'bj1k2:0.4 result:0.005192'"
      ]
     },
     "metadata": {},
     "output_type": "display_data"
    },
    {
     "data": {
      "text/plain": [
       "'j:2 t:3 k:2, vk:v2'"
      ]
     },
     "metadata": {},
     "output_type": "display_data"
    },
    {
     "data": {
      "text/plain": [
       "'alpha_matrix_i0_t2:0.0 ai0j2:0.0'"
      ]
     },
     "metadata": {},
     "output_type": "display_data"
    },
    {
     "data": {
      "text/plain": [
       "'alpha_matrix_i1_t2:0.0052 ai1j2:0.1'"
      ]
     },
     "metadata": {},
     "output_type": "display_data"
    },
    {
     "data": {
      "text/plain": [
       "'alpha_matrix_i2_t2:0.0217 ai2j2:0.2'"
      ]
     },
     "metadata": {},
     "output_type": "display_data"
    },
    {
     "data": {
      "text/plain": [
       "'alpha_matrix_i3_t2:0.0057 ai3j2:0.1'"
      ]
     },
     "metadata": {},
     "output_type": "display_data"
    },
    {
     "data": {
      "text/plain": [
       "'bj2k2:0.1 result:0.000543'"
      ]
     },
     "metadata": {},
     "output_type": "display_data"
    },
    {
     "data": {
      "text/plain": [
       "'j:3 t:3 k:2, vk:v2'"
      ]
     },
     "metadata": {},
     "output_type": "display_data"
    },
    {
     "data": {
      "text/plain": [
       "'alpha_matrix_i0_t2:0.0 ai0j3:0.0'"
      ]
     },
     "metadata": {},
     "output_type": "display_data"
    },
    {
     "data": {
      "text/plain": [
       "'alpha_matrix_i1_t2:0.0052 ai1j3:0.4'"
      ]
     },
     "metadata": {},
     "output_type": "display_data"
    },
    {
     "data": {
      "text/plain": [
       "'alpha_matrix_i2_t2:0.0217 ai2j3:0.1'"
      ]
     },
     "metadata": {},
     "output_type": "display_data"
    },
    {
     "data": {
      "text/plain": [
       "'alpha_matrix_i3_t2:0.0057 ai3j3:0.1'"
      ]
     },
     "metadata": {},
     "output_type": "display_data"
    },
    {
     "data": {
      "text/plain": [
       "'bj3k2:0.2 result:0.000964'"
      ]
     },
     "metadata": {},
     "output_type": "display_data"
    },
    {
     "data": {
      "text/plain": [
       "'j:0 t:4 k:0, vk:v0'"
      ]
     },
     "metadata": {},
     "output_type": "display_data"
    },
    {
     "data": {
      "text/plain": [
       "'alpha_matrix_i0_t3:0.0 ai0j0:1.0'"
      ]
     },
     "metadata": {},
     "output_type": "display_data"
    },
    {
     "data": {
      "text/plain": [
       "'alpha_matrix_i1_t3:0.005192 ai1j0:0.2'"
      ]
     },
     "metadata": {},
     "output_type": "display_data"
    },
    {
     "data": {
      "text/plain": [
       "'alpha_matrix_i2_t3:0.000543 ai2j0:0.2'"
      ]
     },
     "metadata": {},
     "output_type": "display_data"
    },
    {
     "data": {
      "text/plain": [
       "'alpha_matrix_i3_t3:0.000964 ai3j0:0.7'"
      ]
     },
     "metadata": {},
     "output_type": "display_data"
    },
    {
     "data": {
      "text/plain": [
       "'bj0k0:1.0 result:0.0018218'"
      ]
     },
     "metadata": {},
     "output_type": "display_data"
    },
    {
     "data": {
      "text/plain": [
       "'j:1 t:4 k:0, vk:v0'"
      ]
     },
     "metadata": {},
     "output_type": "display_data"
    },
    {
     "data": {
      "text/plain": [
       "'alpha_matrix_i0_t3:0.0 ai0j1:0.0'"
      ]
     },
     "metadata": {},
     "output_type": "display_data"
    },
    {
     "data": {
      "text/plain": [
       "'alpha_matrix_i1_t3:0.005192 ai1j1:0.3'"
      ]
     },
     "metadata": {},
     "output_type": "display_data"
    },
    {
     "data": {
      "text/plain": [
       "'alpha_matrix_i2_t3:0.000543 ai2j1:0.5'"
      ]
     },
     "metadata": {},
     "output_type": "display_data"
    },
    {
     "data": {
      "text/plain": [
       "'alpha_matrix_i3_t3:0.000964 ai3j1:0.1'"
      ]
     },
     "metadata": {},
     "output_type": "display_data"
    },
    {
     "data": {
      "text/plain": [
       "'bj1k0:0.0 result:0.0'"
      ]
     },
     "metadata": {},
     "output_type": "display_data"
    },
    {
     "data": {
      "text/plain": [
       "'j:2 t:4 k:0, vk:v0'"
      ]
     },
     "metadata": {},
     "output_type": "display_data"
    },
    {
     "data": {
      "text/plain": [
       "'alpha_matrix_i0_t3:0.0 ai0j2:0.0'"
      ]
     },
     "metadata": {},
     "output_type": "display_data"
    },
    {
     "data": {
      "text/plain": [
       "'alpha_matrix_i1_t3:0.005192 ai1j2:0.1'"
      ]
     },
     "metadata": {},
     "output_type": "display_data"
    },
    {
     "data": {
      "text/plain": [
       "'alpha_matrix_i2_t3:0.000543 ai2j2:0.2'"
      ]
     },
     "metadata": {},
     "output_type": "display_data"
    },
    {
     "data": {
      "text/plain": [
       "'alpha_matrix_i3_t3:0.000964 ai3j2:0.1'"
      ]
     },
     "metadata": {},
     "output_type": "display_data"
    },
    {
     "data": {
      "text/plain": [
       "'bj2k0:0.0 result:0.0'"
      ]
     },
     "metadata": {},
     "output_type": "display_data"
    },
    {
     "data": {
      "text/plain": [
       "'j:3 t:4 k:0, vk:v0'"
      ]
     },
     "metadata": {},
     "output_type": "display_data"
    },
    {
     "data": {
      "text/plain": [
       "'alpha_matrix_i0_t3:0.0 ai0j3:0.0'"
      ]
     },
     "metadata": {},
     "output_type": "display_data"
    },
    {
     "data": {
      "text/plain": [
       "'alpha_matrix_i1_t3:0.005192 ai1j3:0.4'"
      ]
     },
     "metadata": {},
     "output_type": "display_data"
    },
    {
     "data": {
      "text/plain": [
       "'alpha_matrix_i2_t3:0.000543 ai2j3:0.1'"
      ]
     },
     "metadata": {},
     "output_type": "display_data"
    },
    {
     "data": {
      "text/plain": [
       "'alpha_matrix_i3_t3:0.000964 ai3j3:0.1'"
      ]
     },
     "metadata": {},
     "output_type": "display_data"
    },
    {
     "data": {
      "text/plain": [
       "'bj3k0:0.0 result:0.0'"
      ]
     },
     "metadata": {},
     "output_type": "display_data"
    },
    {
     "data": {
      "text/plain": [
       "array([[0.       , 0.       , 0.       , 0.       , 0.0018218],\n",
       "       [1.       , 0.09     , 0.0052   , 0.005192 , 0.       ],\n",
       "       [0.       , 0.01     , 0.0217   , 0.000543 , 0.       ],\n",
       "       [0.       , 0.2      , 0.0057   , 0.000964 , 0.       ]])"
      ]
     },
     "execution_count": 5,
     "metadata": {},
     "output_type": "execute_result"
    }
   ],
   "source": [
    "model2 = HMM([\"w1\", \"w2\", \"w3\"], [\"v1\", \"v2\", \"v3\", \"v4\"])\n",
    "\n",
    "\n",
    "#                 W0   W1   W2    W3\n",
    "aij = np.array([(  1,   0,   0,   0),  # W0\n",
    "                (0.2, 0.3, 0.1, 0.4),  # W1\n",
    "                (0.2, 0.5, 0.2, 0.1),  # W2\n",
    "                (0.7, 0.1, 0.1, 0.1)]) # W3\n",
    "\n",
    "\n",
    "#                 V0   V1   V2   V3   V4\n",
    "bjk = np.array([(  1,   0,   0,   0,   0),   # W0\n",
    "                (  0, 0.3, 0.4, 0.1, 0.2),   # W1\n",
    "                (  0, 0.1, 0.1, 0.7, 0.1),   # W2\n",
    "                (  0, 0.5, 0.2, 0.1, 0.2)])  # W3\n",
    "\n",
    "model2.a = aij\n",
    "model2.b = bjk\n",
    "\n",
    "model2.alpha(0, 4 , [\"v0\", \"v1\", \"v3\", \"v2\", \"v0\"], force_refresh = True)\n",
    "model2.alpha_matrix"
   ]
  },
  {
   "cell_type": "code",
   "execution_count": 6,
   "metadata": {
    "scrolled": false
   },
   "outputs": [
    {
     "ename": "NameError",
     "evalue": "name 'model' is not defined",
     "output_type": "error",
     "traceback": [
      "\u001b[1;31m---------------------------------------------------------------------------\u001b[0m",
      "\u001b[1;31mNameError\u001b[0m                                 Traceback (most recent call last)",
      "\u001b[1;32m<ipython-input-6-cfd9469b9b05>\u001b[0m in \u001b[0;36m<module>\u001b[1;34m()\u001b[0m\n\u001b[1;32m----> 1\u001b[1;33m \u001b[0mmodel\u001b[0m\u001b[1;33m.\u001b[0m\u001b[0ma\u001b[0m\u001b[1;33m\u001b[0m\u001b[0m\n\u001b[0m",
      "\u001b[1;31mNameError\u001b[0m: name 'model' is not defined"
     ]
    }
   ],
   "source": [
    "model.a"
   ]
  },
  {
   "cell_type": "code",
   "execution_count": 7,
   "metadata": {
    "scrolled": true
   },
   "outputs": [
    {
     "ename": "NameError",
     "evalue": "name 'model' is not defined",
     "output_type": "error",
     "traceback": [
      "\u001b[1;31m---------------------------------------------------------------------------\u001b[0m",
      "\u001b[1;31mNameError\u001b[0m                                 Traceback (most recent call last)",
      "\u001b[1;32m<ipython-input-7-b736ab107d13>\u001b[0m in \u001b[0;36m<module>\u001b[1;34m()\u001b[0m\n\u001b[1;32m----> 1\u001b[1;33m \u001b[0mmodel\u001b[0m\u001b[1;33m.\u001b[0m\u001b[0mb\u001b[0m\u001b[1;33m\u001b[0m\u001b[0m\n\u001b[0m",
      "\u001b[1;31mNameError\u001b[0m: name 'model' is not defined"
     ]
    }
   ],
   "source": [
    "model.b"
   ]
  },
  {
   "cell_type": "code",
   "execution_count": 8,
   "metadata": {},
   "outputs": [
    {
     "data": {
      "text/plain": [
       "0.005200000000000001"
      ]
     },
     "execution_count": 8,
     "metadata": {},
     "output_type": "execute_result"
    }
   ],
   "source": [
    "0.09*0.3*0.1 + 0.01 * 0.5 * 0.1 + 0.2 * 0.1 * 0.1"
   ]
  },
  {
   "cell_type": "code",
   "execution_count": 9,
   "metadata": {},
   "outputs": [
    {
     "data": {
      "text/plain": [
       "0.021699999999999997"
      ]
     },
     "execution_count": 9,
     "metadata": {},
     "output_type": "execute_result"
    }
   ],
   "source": [
    "0.7 * 0.1 * 0.09 + 0.7 * 0.2 * 0.01 + 0.7 * 0.1 * 0.2"
   ]
  },
  {
   "cell_type": "code",
   "execution_count": null,
   "metadata": {},
   "outputs": [],
   "source": []
  },
  {
   "cell_type": "code",
   "execution_count": null,
   "metadata": {},
   "outputs": [],
   "source": []
  },
  {
   "cell_type": "code",
   "execution_count": null,
   "metadata": {},
   "outputs": [],
   "source": []
  },
  {
   "cell_type": "code",
   "execution_count": null,
   "metadata": {},
   "outputs": [],
   "source": []
  },
  {
   "cell_type": "code",
   "execution_count": null,
   "metadata": {},
   "outputs": [],
   "source": []
  }
 ],
 "metadata": {
  "kernelspec": {
   "display_name": "Python 2",
   "language": "python",
   "name": "python2"
  },
  "language_info": {
   "codemirror_mode": {
    "name": "ipython",
    "version": 2
   },
   "file_extension": ".py",
   "mimetype": "text/x-python",
   "name": "python",
   "nbconvert_exporter": "python",
   "pygments_lexer": "ipython2",
   "version": "2.7.14"
  }
 },
 "nbformat": 4,
 "nbformat_minor": 2
}
