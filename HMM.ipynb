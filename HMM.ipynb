{
 "cells": [
  {
   "cell_type": "code",
   "execution_count": 134,
   "metadata": {},
   "outputs": [
    {
     "data": {
      "text/plain": [
       "'one two'"
      ]
     },
     "metadata": {},
     "output_type": "display_data"
    }
   ],
   "source": [
    "import numpy as np\n",
    "from IPython.display import display\n",
    "\n",
    "np.set_printoptions(suppress=True)\n",
    "\n",
    "#np.zeros(5)\n",
    "sum([1,2,3,4])\n",
    "display('{} {}'.format('one', 'two'))"
   ]
  },
  {
   "cell_type": "code",
   "execution_count": 135,
   "metadata": {
    "scrolled": true
   },
   "outputs": [],
   "source": [
    "class HMM:\n",
    "    def __init__(self, hidden_states, visible_symbols):\n",
    "        \n",
    "        # first hidden state is actually w0 (omega_0)\n",
    "        self.hidden_states = [\"w0\"] + hidden_states\n",
    "        # first visible symbol is actually v0\n",
    "        self.visible_symbols = [\"v0\"] + visible_symbols\n",
    "    \n",
    "        self.count_hidden = len(hidden_states) + 1\n",
    "        self.count_visible = len(visible_symbols) + 1\n",
    "    \n",
    "        # transition matrix\n",
    "        self.a = np.random.random(self.count_hidden ** 2).reshape(self.count_hidden, self.count_hidden)\n",
    "        # emissions matrix\n",
    "        self.b = np.random.random(self.count_hidden * self.count_visible).reshape(self.count_hidden, self.count_visible)\n",
    "        \n",
    "        # alpha matrix\n",
    "        #self.alpha_matrix = np.zeros(self.count_hidden ** 2).reshape(self.count_hidden, self.count_hidden)\n",
    "        # beta matrix\n",
    "        #self._beta = np.zeros(self.count_hidden ** 2).reshape(self.count_hidden, self.count_hidden)\n",
    "        \n",
    "        self.a[0, 0] = 1\n",
    "        for i in range(1, self.count_hidden):\n",
    "            self.a[0, i] = 0\n",
    "            \n",
    "        self.b[0, 0] = 1\n",
    "        for k in range(1, self.count_visible):\n",
    "            self.b[0, k] = 0\n",
    "        \n",
    "        for j in range(1, self.count_hidden):\n",
    "            self.b[j, 0] = 0\n",
    "    \n",
    "    def alpha(self, j, t, sequence, initial_hidden_state = 1, force_refresh = False):\n",
    "        sequence = [\"v0\"] + sequence\n",
    "        if force_refresh:\n",
    "            self.alpha_matrix = np.zeros(self.count_hidden * len(sequence)).reshape(self.count_hidden,  len(sequence))\n",
    "            #display(\"Force refresh\")\n",
    "        else:\n",
    "            #display(\"getting precalculated value\")\n",
    "            return self.alpha_matrix[j, t]\n",
    "        \n",
    "        for t in range(len(sequence)):\n",
    "            k = self.visible_symbols.index(sequence[t])\n",
    "            for j in range(self.count_hidden):\n",
    "                if t == 0 and j != initial_hidden_state:\n",
    "                    self.alpha_matrix[j, t] = 0\n",
    "                elif t == 0 and j == initial_hidden_state:\n",
    "                    self.alpha_matrix[j, t] = 1\n",
    "                else:\n",
    "                    #display('j:{} t:{} k:{}, vk:{}'.format(j, t, k, sequence[t]))\n",
    "                    suma = 0\n",
    "                    for i in range(self.count_hidden):\n",
    "                        #display('alpha_matrix_i{}_t{}:{} ai{}j{}:{}'.format(i, t-1, self.alpha_matrix[i, t-1], i, j, self.a[i,j]))\n",
    "                        suma += self.alpha_matrix[i, t-1] * self.a[i, j]\n",
    "                    \n",
    "                    #display(\"bj{}k{}:{} result:{}\".format(j, k,self.b[j,k], suma))\n",
    "                    self.alpha_matrix[j, t] =  suma * self.b[j, k]\n",
    "                    \n",
    "    def beta(self, i, t, sequence, force_refresh = False):\n",
    "        if force_refresh:\n",
    "            self.beta_matrix = np.zeros(self.count_hidden * len(sequence)).reshape(self.count_hidden,  len(sequence))\n",
    "            #display(\"Force refresh\")\n",
    "        else:\n",
    "            #display(\"getting precalculated value\")\n",
    "            return self.beta_matrix[j, t]\n",
    "        for t in reversed(range(len(sequence))):\n",
    "            display(\"-\")\n",
    "            for j in range(self.count_hidden):\n",
    "                if t == len(sequence) - 1 and j == 0:\n",
    "                    self.beta_matrix[j, t] = 1\n",
    "                elif t == len(sequence) - 1 and j != 0:\n",
    "                    self.beta_matrix[j, t] = 0\n",
    "                else:\n",
    "                    k = self.visible_symbols.index(sequence[t])\n",
    "                    suma = 0\n",
    "                    for i in range(self.count_hidden):\n",
    "                        display(\"beta_j{}_t{}:{} ai{}j{}:{}\".format(i, t+1, self.beta_matrix[i, t + 1], i, j, self.a[i, j]))\n",
    "                        suma += self.beta_matrix[i, t + 1] * self.a[j, i]\n",
    "\n",
    "                    self.beta_matrix[j, t] = suma * self.b[j, k]\n",
    "                    display(\"j:{} t:{} k:{} symbol:{} bj{}k{}:{} suma:{} result:{}\".format(j, t, k, sequence[t],j, k, self.b[j, k], suma, self.beta_matrix[j, t]))\n",
    "    \n",
    "    def gamma(i, j, t, sequence):\n",
    "        k = self.visible_symbols.index(sequence[t])\n",
    "        return (self.alpha(i, t-1, sequence) * self.a[i,j] * self.b[j, k] * self.beta(j, t, sequence)) / self.alpha(0, len(sequence), sequence)\n",
    "\n",
    "    def refined_a(i, j, sequence):\n",
    "        expected_nr_of_transitions = sum([gamma(i, j, t, sequence) for t in range(len(sequence))])\n",
    "        total_expected_nr_of_transitions = 1 #[gamma(i, k, t, sequence) for k in range]\n",
    "        return expected_nr_of_transitions / total_expected_nr_of_transitions\n",
    "    \n",
    "    def refined_b(j, k, sequence):\n",
    "        pass\n",
    "    \n",
    "    def learn(sequence):\n",
    "        self.a = np.random.random(self.count_hidden ** 2).reshape(self.count_hidden, self.count_hidden)\n",
    "        self.b = np.random.random(self.count_hidden * self.count_visible).reshape(self.count_hidden, self.count_visible)\n",
    "        gain_in_accuracy = 1\n",
    "        while gain_in_accuracy > 0.1:\n",
    "            self.alpha(0, len(sequence) , sequence, force_refresh = True)\n",
    "            self.beta(1, 0, sequence, force_refresh = True)\n",
    "            new_aij = self.refined_a(i, j, sequence)\n",
    "            new_bjk = self.refined_b(j, k, sequence)\n",
    "            gain_in_accuracy = abs(a[i, j] - new_aij) + abs(b[j, k] - new_bjk)\n",
    "            self.a[i,j] = new_aij\n",
    "            sekf,b[j,k] = new_bjk\n",
    "\n",
    "            \n",
    "\n",
    "\n",
    "#model = HMM([\"w1\", \"w2\", \"w3\"], [\"v1\", \"v2\", \"v3\", \"v4\"])\n",
    "\n",
    "#model.alpha(0, 4 , [\"v3\", \"v1\", \"v2\", \"v1\", \"v0\"], force_refresh = True)\n",
    "#model.alpha_matrix"
   ]
  },
  {
   "cell_type": "code",
   "execution_count": 136,
   "metadata": {},
   "outputs": [
    {
     "data": {
      "text/plain": [
       "'-'"
      ]
     },
     "metadata": {},
     "output_type": "display_data"
    },
    {
     "data": {
      "text/plain": [
       "'-'"
      ]
     },
     "metadata": {},
     "output_type": "display_data"
    },
    {
     "data": {
      "text/plain": [
       "'beta_j0_t3:1.0 ai0j0:1.0'"
      ]
     },
     "metadata": {},
     "output_type": "display_data"
    },
    {
     "data": {
      "text/plain": [
       "'beta_j1_t3:0.0 ai1j0:0.2'"
      ]
     },
     "metadata": {},
     "output_type": "display_data"
    },
    {
     "data": {
      "text/plain": [
       "'beta_j2_t3:0.0 ai2j0:0.2'"
      ]
     },
     "metadata": {},
     "output_type": "display_data"
    },
    {
     "data": {
      "text/plain": [
       "'beta_j3_t3:0.0 ai3j0:0.7'"
      ]
     },
     "metadata": {},
     "output_type": "display_data"
    },
    {
     "data": {
      "text/plain": [
       "'j:0 t:2 k:2 symbol:v2 bj0k2:0.0 suma:1.0 result:0.0'"
      ]
     },
     "metadata": {},
     "output_type": "display_data"
    },
    {
     "data": {
      "text/plain": [
       "'beta_j0_t3:1.0 ai0j1:0.0'"
      ]
     },
     "metadata": {},
     "output_type": "display_data"
    },
    {
     "data": {
      "text/plain": [
       "'beta_j1_t3:0.0 ai1j1:0.3'"
      ]
     },
     "metadata": {},
     "output_type": "display_data"
    },
    {
     "data": {
      "text/plain": [
       "'beta_j2_t3:0.0 ai2j1:0.5'"
      ]
     },
     "metadata": {},
     "output_type": "display_data"
    },
    {
     "data": {
      "text/plain": [
       "'beta_j3_t3:0.0 ai3j1:0.1'"
      ]
     },
     "metadata": {},
     "output_type": "display_data"
    },
    {
     "data": {
      "text/plain": [
       "'j:1 t:2 k:2 symbol:v2 bj1k2:0.4 suma:0.2 result:0.08'"
      ]
     },
     "metadata": {},
     "output_type": "display_data"
    },
    {
     "data": {
      "text/plain": [
       "'beta_j0_t3:1.0 ai0j2:0.0'"
      ]
     },
     "metadata": {},
     "output_type": "display_data"
    },
    {
     "data": {
      "text/plain": [
       "'beta_j1_t3:0.0 ai1j2:0.1'"
      ]
     },
     "metadata": {},
     "output_type": "display_data"
    },
    {
     "data": {
      "text/plain": [
       "'beta_j2_t3:0.0 ai2j2:0.2'"
      ]
     },
     "metadata": {},
     "output_type": "display_data"
    },
    {
     "data": {
      "text/plain": [
       "'beta_j3_t3:0.0 ai3j2:0.1'"
      ]
     },
     "metadata": {},
     "output_type": "display_data"
    },
    {
     "data": {
      "text/plain": [
       "'j:2 t:2 k:2 symbol:v2 bj2k2:0.1 suma:0.2 result:0.02'"
      ]
     },
     "metadata": {},
     "output_type": "display_data"
    },
    {
     "data": {
      "text/plain": [
       "'beta_j0_t3:1.0 ai0j3:0.0'"
      ]
     },
     "metadata": {},
     "output_type": "display_data"
    },
    {
     "data": {
      "text/plain": [
       "'beta_j1_t3:0.0 ai1j3:0.4'"
      ]
     },
     "metadata": {},
     "output_type": "display_data"
    },
    {
     "data": {
      "text/plain": [
       "'beta_j2_t3:0.0 ai2j3:0.1'"
      ]
     },
     "metadata": {},
     "output_type": "display_data"
    },
    {
     "data": {
      "text/plain": [
       "'beta_j3_t3:0.0 ai3j3:0.1'"
      ]
     },
     "metadata": {},
     "output_type": "display_data"
    },
    {
     "data": {
      "text/plain": [
       "'j:3 t:2 k:2 symbol:v2 bj3k2:0.2 suma:0.7 result:0.14'"
      ]
     },
     "metadata": {},
     "output_type": "display_data"
    },
    {
     "data": {
      "text/plain": [
       "'-'"
      ]
     },
     "metadata": {},
     "output_type": "display_data"
    },
    {
     "data": {
      "text/plain": [
       "'beta_j0_t2:0.0 ai0j0:1.0'"
      ]
     },
     "metadata": {},
     "output_type": "display_data"
    },
    {
     "data": {
      "text/plain": [
       "'beta_j1_t2:0.08 ai1j0:0.2'"
      ]
     },
     "metadata": {},
     "output_type": "display_data"
    },
    {
     "data": {
      "text/plain": [
       "'beta_j2_t2:0.02 ai2j0:0.2'"
      ]
     },
     "metadata": {},
     "output_type": "display_data"
    },
    {
     "data": {
      "text/plain": [
       "'beta_j3_t2:0.14 ai3j0:0.7'"
      ]
     },
     "metadata": {},
     "output_type": "display_data"
    },
    {
     "data": {
      "text/plain": [
       "'j:0 t:1 k:3 symbol:v3 bj0k3:0.0 suma:0.0 result:0.0'"
      ]
     },
     "metadata": {},
     "output_type": "display_data"
    },
    {
     "data": {
      "text/plain": [
       "'beta_j0_t2:0.0 ai0j1:0.0'"
      ]
     },
     "metadata": {},
     "output_type": "display_data"
    },
    {
     "data": {
      "text/plain": [
       "'beta_j1_t2:0.08 ai1j1:0.3'"
      ]
     },
     "metadata": {},
     "output_type": "display_data"
    },
    {
     "data": {
      "text/plain": [
       "'beta_j2_t2:0.02 ai2j1:0.5'"
      ]
     },
     "metadata": {},
     "output_type": "display_data"
    },
    {
     "data": {
      "text/plain": [
       "'beta_j3_t2:0.14 ai3j1:0.1'"
      ]
     },
     "metadata": {},
     "output_type": "display_data"
    },
    {
     "data": {
      "text/plain": [
       "'j:1 t:1 k:3 symbol:v3 bj1k3:0.1 suma:0.082 result:0.0082'"
      ]
     },
     "metadata": {},
     "output_type": "display_data"
    },
    {
     "data": {
      "text/plain": [
       "'beta_j0_t2:0.0 ai0j2:0.0'"
      ]
     },
     "metadata": {},
     "output_type": "display_data"
    },
    {
     "data": {
      "text/plain": [
       "'beta_j1_t2:0.08 ai1j2:0.1'"
      ]
     },
     "metadata": {},
     "output_type": "display_data"
    },
    {
     "data": {
      "text/plain": [
       "'beta_j2_t2:0.02 ai2j2:0.2'"
      ]
     },
     "metadata": {},
     "output_type": "display_data"
    },
    {
     "data": {
      "text/plain": [
       "'beta_j3_t2:0.14 ai3j2:0.1'"
      ]
     },
     "metadata": {},
     "output_type": "display_data"
    },
    {
     "data": {
      "text/plain": [
       "'j:2 t:1 k:3 symbol:v3 bj2k3:0.7 suma:0.058 result:0.0406'"
      ]
     },
     "metadata": {},
     "output_type": "display_data"
    },
    {
     "data": {
      "text/plain": [
       "'beta_j0_t2:0.0 ai0j3:0.0'"
      ]
     },
     "metadata": {},
     "output_type": "display_data"
    },
    {
     "data": {
      "text/plain": [
       "'beta_j1_t2:0.08 ai1j3:0.4'"
      ]
     },
     "metadata": {},
     "output_type": "display_data"
    },
    {
     "data": {
      "text/plain": [
       "'beta_j2_t2:0.02 ai2j3:0.1'"
      ]
     },
     "metadata": {},
     "output_type": "display_data"
    },
    {
     "data": {
      "text/plain": [
       "'beta_j3_t2:0.14 ai3j3:0.1'"
      ]
     },
     "metadata": {},
     "output_type": "display_data"
    },
    {
     "data": {
      "text/plain": [
       "'j:3 t:1 k:3 symbol:v3 bj3k3:0.1 suma:0.024 result:0.0024'"
      ]
     },
     "metadata": {},
     "output_type": "display_data"
    },
    {
     "data": {
      "text/plain": [
       "'-'"
      ]
     },
     "metadata": {},
     "output_type": "display_data"
    },
    {
     "data": {
      "text/plain": [
       "'beta_j0_t1:0.0 ai0j0:1.0'"
      ]
     },
     "metadata": {},
     "output_type": "display_data"
    },
    {
     "data": {
      "text/plain": [
       "'beta_j1_t1:0.0082 ai1j0:0.2'"
      ]
     },
     "metadata": {},
     "output_type": "display_data"
    },
    {
     "data": {
      "text/plain": [
       "'beta_j2_t1:0.0406 ai2j0:0.2'"
      ]
     },
     "metadata": {},
     "output_type": "display_data"
    },
    {
     "data": {
      "text/plain": [
       "'beta_j3_t1:0.0024 ai3j0:0.7'"
      ]
     },
     "metadata": {},
     "output_type": "display_data"
    },
    {
     "data": {
      "text/plain": [
       "'j:0 t:0 k:1 symbol:v1 bj0k1:0.0 suma:0.0 result:0.0'"
      ]
     },
     "metadata": {},
     "output_type": "display_data"
    },
    {
     "data": {
      "text/plain": [
       "'beta_j0_t1:0.0 ai0j1:0.0'"
      ]
     },
     "metadata": {},
     "output_type": "display_data"
    },
    {
     "data": {
      "text/plain": [
       "'beta_j1_t1:0.0082 ai1j1:0.3'"
      ]
     },
     "metadata": {},
     "output_type": "display_data"
    },
    {
     "data": {
      "text/plain": [
       "'beta_j2_t1:0.0406 ai2j1:0.5'"
      ]
     },
     "metadata": {},
     "output_type": "display_data"
    },
    {
     "data": {
      "text/plain": [
       "'beta_j3_t1:0.0024 ai3j1:0.1'"
      ]
     },
     "metadata": {},
     "output_type": "display_data"
    },
    {
     "data": {
      "text/plain": [
       "'j:1 t:0 k:1 symbol:v1 bj1k1:0.3 suma:0.00748 result:0.002244'"
      ]
     },
     "metadata": {},
     "output_type": "display_data"
    },
    {
     "data": {
      "text/plain": [
       "'beta_j0_t1:0.0 ai0j2:0.0'"
      ]
     },
     "metadata": {},
     "output_type": "display_data"
    },
    {
     "data": {
      "text/plain": [
       "'beta_j1_t1:0.0082 ai1j2:0.1'"
      ]
     },
     "metadata": {},
     "output_type": "display_data"
    },
    {
     "data": {
      "text/plain": [
       "'beta_j2_t1:0.0406 ai2j2:0.2'"
      ]
     },
     "metadata": {},
     "output_type": "display_data"
    },
    {
     "data": {
      "text/plain": [
       "'beta_j3_t1:0.0024 ai3j2:0.1'"
      ]
     },
     "metadata": {},
     "output_type": "display_data"
    },
    {
     "data": {
      "text/plain": [
       "'j:2 t:0 k:1 symbol:v1 bj2k1:0.1 suma:0.01246 result:0.001246'"
      ]
     },
     "metadata": {},
     "output_type": "display_data"
    },
    {
     "data": {
      "text/plain": [
       "'beta_j0_t1:0.0 ai0j3:0.0'"
      ]
     },
     "metadata": {},
     "output_type": "display_data"
    },
    {
     "data": {
      "text/plain": [
       "'beta_j1_t1:0.0082 ai1j3:0.4'"
      ]
     },
     "metadata": {},
     "output_type": "display_data"
    },
    {
     "data": {
      "text/plain": [
       "'beta_j2_t1:0.0406 ai2j3:0.1'"
      ]
     },
     "metadata": {},
     "output_type": "display_data"
    },
    {
     "data": {
      "text/plain": [
       "'beta_j3_t1:0.0024 ai3j3:0.1'"
      ]
     },
     "metadata": {},
     "output_type": "display_data"
    },
    {
     "data": {
      "text/plain": [
       "'j:3 t:0 k:1 symbol:v1 bj3k1:0.5 suma:0.00512 result:0.00256'"
      ]
     },
     "metadata": {},
     "output_type": "display_data"
    },
    {
     "data": {
      "text/plain": [
       "array([[0.      , 0.      , 0.      , 1.      ],\n",
       "       [0.002244, 0.0082  , 0.08    , 0.      ],\n",
       "       [0.001246, 0.0406  , 0.02    , 0.      ],\n",
       "       [0.00256 , 0.0024  , 0.14    , 0.      ]])"
      ]
     },
     "execution_count": 136,
     "metadata": {},
     "output_type": "execute_result"
    }
   ],
   "source": [
    "model3 = HMM([\"w1\", \"w2\", \"w3\"], [\"v1\", \"v2\", \"v3\", \"v4\"])\n",
    "\n",
    "\n",
    "#                 W0   W1   W2    W3\n",
    "aij = np.array([(  1,   0,   0,   0),  # W0\n",
    "                (0.2, 0.3, 0.1, 0.4),  # W1\n",
    "                (0.2, 0.5, 0.2, 0.1),  # W2\n",
    "                (0.7, 0.1, 0.1, 0.1)]) # W3\n",
    "\n",
    "\n",
    "#                 V0   V1   V2   V3   V4\n",
    "bjk = np.array([(  1,   0,   0,   0,   0),   # W0\n",
    "                (  0, 0.3, 0.4, 0.1, 0.2),   # W1\n",
    "                (  0, 0.1, 0.1, 0.7, 0.1),   # W2\n",
    "                (  0, 0.5, 0.2, 0.1, 0.2)])  # W3\n",
    "\n",
    "model3.a = aij\n",
    "model3.b = bjk\n",
    "\n",
    "model3.beta(1, 0, [\"v1\", \"v3\", \"v2\", \"v0\"], force_refresh = True)\n",
    "model3.beta_matrix"
   ]
  },
  {
   "cell_type": "code",
   "execution_count": 137,
   "metadata": {},
   "outputs": [
    {
     "data": {
      "text/plain": [
       "array([[0.       , 0.       , 0.       , 0.       , 0.0018218],\n",
       "       [1.       , 0.09     , 0.0052   , 0.005192 , 0.       ],\n",
       "       [0.       , 0.01     , 0.0217   , 0.000543 , 0.       ],\n",
       "       [0.       , 0.2      , 0.0057   , 0.000964 , 0.       ]])"
      ]
     },
     "execution_count": 137,
     "metadata": {},
     "output_type": "execute_result"
    }
   ],
   "source": [
    "model2 = HMM([\"w1\", \"w2\", \"w3\"], [\"v1\", \"v2\", \"v3\", \"v4\"])\n",
    "\n",
    "\n",
    "#                 W0   W1   W2    W3\n",
    "aij = np.array([(  1,   0,   0,   0),  # W0\n",
    "                (0.2, 0.3, 0.1, 0.4),  # W1\n",
    "                (0.2, 0.5, 0.2, 0.1),  # W2\n",
    "                (0.7, 0.1, 0.1, 0.1)]) # W3\n",
    "\n",
    "\n",
    "#                 V0   V1   V2   V3   V4\n",
    "bjk = np.array([(  1,   0,   0,   0,   0),   # W0\n",
    "                (  0, 0.3, 0.4, 0.1, 0.2),   # W1\n",
    "                (  0, 0.1, 0.1, 0.7, 0.1),   # W2\n",
    "                (  0, 0.5, 0.2, 0.1, 0.2)])  # W3\n",
    "\n",
    "model2.a = aij\n",
    "model2.b = bjk\n",
    "\n",
    "model2.alpha(0, 4 , [\"v1\", \"v3\", \"v2\", \"v0\"], force_refresh = True)\n",
    "model2.alpha_matrix"
   ]
  },
  {
   "cell_type": "code",
   "execution_count": 138,
   "metadata": {
    "scrolled": false
   },
   "outputs": [
    {
     "data": {
      "text/plain": [
       "array([[1. , 0. , 0. , 0. ],\n",
       "       [0.2, 0.3, 0.1, 0.4],\n",
       "       [0.2, 0.5, 0.2, 0.1],\n",
       "       [0.7, 0.1, 0.1, 0.1]])"
      ]
     },
     "execution_count": 138,
     "metadata": {},
     "output_type": "execute_result"
    }
   ],
   "source": [
    "model2.a"
   ]
  },
  {
   "cell_type": "code",
   "execution_count": 139,
   "metadata": {
    "scrolled": true
   },
   "outputs": [
    {
     "data": {
      "text/plain": [
       "array([[1. , 0. , 0. , 0. , 0. ],\n",
       "       [0. , 0.3, 0.4, 0.1, 0.2],\n",
       "       [0. , 0.1, 0.1, 0.7, 0.1],\n",
       "       [0. , 0.5, 0.2, 0.1, 0.2]])"
      ]
     },
     "execution_count": 139,
     "metadata": {},
     "output_type": "execute_result"
    }
   ],
   "source": [
    "model2.b"
   ]
  }
 ],
 "metadata": {
  "kernelspec": {
   "display_name": "Python 2",
   "language": "python",
   "name": "python2"
  },
  "language_info": {
   "codemirror_mode": {
    "name": "ipython",
    "version": 2
   },
   "file_extension": ".py",
   "mimetype": "text/x-python",
   "name": "python",
   "nbconvert_exporter": "python",
   "pygments_lexer": "ipython2",
   "version": "2.7.14"
  }
 },
 "nbformat": 4,
 "nbformat_minor": 2
}
